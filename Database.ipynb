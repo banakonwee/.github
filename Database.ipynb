{
  "nbformat": 4,
  "nbformat_minor": 0,
  "metadata": {
    "colab": {
      "private_outputs": true,
      "provenance": [],
      "gpuType": "V28",
      "authorship_tag": "ABX9TyPq/U3SZUcuv9brSI0dvclK",
      "include_colab_link": true
    },
    "kernelspec": {
      "name": "python3",
      "display_name": "Python 3"
    },
    "language_info": {
      "name": "python"
    },
    "accelerator": "TPU"
  },
  "cells": [
    {
      "cell_type": "markdown",
      "metadata": {
        "id": "view-in-github",
        "colab_type": "text"
      },
      "source": [
        "<a href=\"https://colab.research.google.com/github/banakonwee/.github/blob/main/Database.ipynb\" target=\"_parent\"><img src=\"https://colab.research.google.com/assets/colab-badge.svg\" alt=\"Open In Colab\"/></a>"
      ]
    },
    {
      "cell_type": "code",
      "source": [
        "[app]\n",
        "\n",
        "# Title of your application\n",
        "title = \"Credit Management\"\n",
        "\n",
        "# Package name\n",
        "package.name = creditapp\n",
        "\n",
        "# Package domain (needed for android/ios packaging)\n",
        "package.domain = org.example\n",
        "\n",
        "# Source code where the main.py is\n",
        "source.dir = \".\"\n",
        "\n",
        "# Source files to include (let empty to include all the files)\n",
        "source.include_exts = py,png,jpg,kv,db\n",
        "\n",
        "# Main entry point\n",
        "main.py = main.py\n",
        "\n",
        "# Android specific\n",
        "# Requirements for the build\n",
        "requirements = kivy==2.0\n",
        "\n",
        "# Android permissions\n",
        "android.permissions = WRITE_EXTERNAL_STORAGE, READ_EXTERNAL_STORAGE\n",
        "\n",
        "# Presplash\n",
        "presplash.filename = credit_management.db.dir/presplash.png\n",
        "\n",
        "# Icon\n",
        "icon.filename = credit_managment.db/icon.png\n",
        "\n",
        "# Orientation (portrait)\n",
        "orientation = portrait\n",
        "\n",
        "# Android API level\n",
        "android.api = 30\n",
        "\n",
        "# Minimum Android SDK version\n",
        "android.minapi = 21\n",
        "\n",
        "# Android SDK directory (if empty, buildozer will try to auto-detect it)\n",
        "# android.sdk_path =\n",
        "\n",
        "# Android NDK directory (if empty, buildozer will try to auto-detect it)\n",
        "# android.ndk_path =\n",
        "\n",
        "# Android entry point\n",
        "android.entrypoint = org.kivy.android.PythonActivity\n",
        "\n",
        "# Android app theme\n",
        "android.apptheme = \"@android:style/Theme.NoTitleBar\"\n",
        "\n",
        "# Android logcat filters (default)\n",
        "# android.logcat_filters = *:S python:D\n",
        "\n",
        "# (bool) Copy SQLite3 database\n",
        "android.copy_libs = 1"
      ],
      "metadata": {
        "id": "PV8OuDvcERdz"
      },
      "execution_count": null,
      "outputs": []
    },
    {
      "cell_type": "code",
      "source": [
        "!pip install buildozer"
      ],
      "metadata": {
        "id": "jx3BTW1bD0KE"
      },
      "execution_count": null,
      "outputs": []
    },
    {
      "cell_type": "code",
      "source": [
        "!buildozer init"
      ],
      "metadata": {
        "id": "Dhv9mWqJuZHd"
      },
      "execution_count": null,
      "outputs": []
    },
    {
      "cell_type": "code",
      "source": [
        "!buildozer android debug"
      ],
      "metadata": {
        "id": "hLWsn4tTFnr7"
      },
      "execution_count": null,
      "outputs": []
    },
    {
      "cell_type": "markdown",
      "source": [],
      "metadata": {
        "id": "NsIoogTNFVD5"
      }
    }
  ]
}