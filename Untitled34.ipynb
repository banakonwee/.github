{
  "nbformat": 4,
  "nbformat_minor": 0,
  "metadata": {
    "colab": {
      "private_outputs": true,
      "provenance": [],
      "authorship_tag": "ABX9TyNNmLE3mxC3SCmDK0dG+UtY",
      "include_colab_link": true
    },
    "kernelspec": {
      "name": "python3",
      "display_name": "Python 3"
    },
    "language_info": {
      "name": "python"
    }
  },
  "cells": [
    {
      "cell_type": "markdown",
      "metadata": {
        "id": "view-in-github",
        "colab_type": "text"
      },
      "source": [
        "<a href=\"https://colab.research.google.com/github/banakonwee/.github/blob/main/Untitled34.ipynb\" target=\"_parent\"><img src=\"https://colab.research.google.com/assets/colab-badge.svg\" alt=\"Open In Colab\"/></a>"
      ]
    },
    {
      "source": [
        "!pip install xlsxwriter\n",
        "import pandas as pd\n",
        "import io\n",
        "\n",
        "def generate_scoring_spreadsheet():\n",
        "    \"\"\"Generates an Excel spreadsheet with the scoring system.\"\"\"\n",
        "    # ... (rest of your code) ..."
      ],
      "cell_type": "code",
      "metadata": {
        "id": "l0Na04ab8lf0"
      },
      "execution_count": null,
      "outputs": []
    },
    {
      "cell_type": "code",
      "execution_count": null,
      "metadata": {
        "id": "AGwYol8r8VMS"
      },
      "outputs": [],
      "source": [
        "import pandas as pd\n",
        "import io\n",
        "\n",
        "def generate_scoring_spreadsheet():\n",
        "    \"\"\"Generates an Excel spreadsheet with the scoring system.\"\"\"\n",
        "\n",
        "    data = {\n",
        "        \"Risk Category\": [\n",
        "            \"Financial Ratios (33%)\",\n",
        "            \"Loan Performance (25%)\",\n",
        "            \"Regulatory Compliance\",\n",
        "            \"Management Risk (17%)\",\n",
        "            \"Customer Relationship Risk (15%)\",\n",
        "            \"Business/Industry Risk (10%)\",\n",
        "            \"ESG Risk (Penalty)\",\n",
        "            \"Overall Credit Risk Score\",\n",
        "        ],\n",
        "        \"Scoring Type\": [\n",
        "            \"Quantitative (Weighted Ratios)\",\n",
        "            \"Quantitative (Points/Deductions)\",\n",
        "            \"Binary/Rating\",\n",
        "            \"Qualitative (Rating Scales)\",\n",
        "            \"Qualitative (Rating Scales)\",\n",
        "            \"Qualitative (Rating Scales)\",\n",
        "            \"Qualitative Penalty\",\n",
        "            \"Weighted Sum\",\n",
        "        ],\n",
        "        \"Description\": [\n",
        "            \"Weighted scores based on financial ratios (PBIT/Net Sales, Current Ratio, etc.).\",\n",
        "            \"Points for positive loan performance, deductions for negative indicators.\",\n",
        "            \"Pass/Fail for mandatory requirements, points for NBE rating.\",\n",
        "            \"Weighted scores from 1-5 rating scales for management quality.\",\n",
        "            \"Weighted scores from 1-5 rating scales for customer relationship.\",\n",
        "            \"Weighted scores from 1-5 rating scales for industry position.\",\n",
        "            \"Weighted score from 1-5 rating scales applied as a penalty.\",\n",
        "            \"Sum of weighted category scores, with ESG penalty applied.\",\n",
        "        ],\n",
        "        \"Example Scoring\": [\n",
        "            \"Ratio ranges and weights assigned to each.\",\n",
        "            \"Points for timely payments, deductions for defaults.\",\n",
        "            \"Pass=1, Fail=0; NBE Rating scale points.\",\n",
        "            \"1-5 rating scales for experience, qualifications, etc.\",\n",
        "            \"1-5 rating scales for integrity, cooperation, etc.\",\n",
        "            \"1-5 rating scales for market share, outlook, etc.\",\n",
        "            \"1-5 rating scales for ESG factors, deducted from total.\",\n",
        "            \"Weighted sum of category scores (33% Financial, 25% Loan, etc.).\",\n",
        "        ],\n",
        "        \"Example Rating\": [\n",
        "            \"Example: 80-100 = Excellent, 60-79 = Good, 40-59 = Fair, 0-39 = Poor.\",\n",
        "            \"Example: 90-100 points for excellent loan performance.\",\n",
        "            \"Example: 100% Compliance = Full Points\",\n",
        "            \"Example: 4-5 average rating = Strong Management.\",\n",
        "            \"Example: 4-5 average rating = Strong Relationship.\",\n",
        "            \"Example: 4-5 average rating = Strong Industry Position.\",\n",
        "            \"Example: -5 to -20 points penalty based on ESG score.\",\n",
        "            \"Example: 75 = Good Credit Risk.\",\n",
        "        ],\n",
        "    }\n",
        "\n",
        "    df = pd.DataFrame(data)\n",
        "\n",
        "    excel_file = io.BytesIO()\n",
        "    with pd.ExcelWriter(excel_file, engine='xlsxwriter') as writer:\n",
        "        df.to_excel(writer, sheet_name='Scoring System', index=False)\n",
        "        worksheet = writer.sheets['Scoring System']\n",
        "        for idx, col in enumerate(df):  # loop through all columns\n",
        "            series = df[col]\n",
        "            max_len = max((series.astype(str).map(len).max(), len(str(series.name)))) + 1\n",
        "            worksheet.set_column(idx, idx, max_len)\n",
        "\n",
        "    excel_file.seek(0)\n",
        "    return excel_file.getvalue()\n",
        "\n",
        "# Example usage (to save to a file):\n",
        "excel_data = generate_scoring_spreadsheet()\n",
        "with open(\"credit_risk_scoring_system.xlsx\", \"wb\") as f:\n",
        "    f.write(excel_data)\n",
        "\n",
        "# To use in a web application you can return the excel_data variable as a downloadable file."
      ]
    }
  ]
}